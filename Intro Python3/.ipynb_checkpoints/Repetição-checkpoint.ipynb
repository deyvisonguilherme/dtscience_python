{
 "cells": [
  {
   "cell_type": "code",
   "execution_count": 13,
   "metadata": {},
   "outputs": [
    {
     "name": "stdout",
     "output_type": "stream",
     "text": [
      "Qual tabuada? 28\n",
      "0 * 28 = 0\n",
      "1 * 28 = 28\n",
      "2 * 28 = 56\n",
      "3 * 28 = 84\n",
      "4 * 28 = 112\n",
      "5 * 28 = 140\n",
      "6 * 28 = 168\n",
      "7 * 28 = 196\n",
      "8 * 28 = 224\n",
      "9 * 28 = 252\n",
      "10 * 28 = 280\n"
     ]
    }
   ],
   "source": [
    "tabuada = int(input('Qual tabuada? '))\n",
    "contador = 0\n",
    "\n",
    "while contador <= 10 :\n",
    "    print('{0} * {1} = {2}'.format(contador, tabuada, (contador * tabuada)))\n",
    "    contador+= 1"
   ]
  },
  {
   "cell_type": "code",
   "execution_count": 16,
   "metadata": {},
   "outputs": [
    {
     "name": "stdout",
     "output_type": "stream",
     "text": [
      "1\n",
      "2\n",
      "3\n",
      "4\n",
      "5\n",
      "6\n"
     ]
    }
   ],
   "source": [
    "lista = [1,2,3,4,5,6]\n",
    "for e in lista :\n",
    "    print(e)"
   ]
  },
  {
   "cell_type": "code",
   "execution_count": 22,
   "metadata": {},
   "outputs": [
    {
     "name": "stdout",
     "output_type": "stream",
     "text": [
      "Buscar? 5\n"
     ]
    }
   ],
   "source": [
    "lista = [1,10,3, 4]\n",
    "buscar = int(input('Buscar? '))\n",
    "for i in lista :\n",
    "    if i == buscar :\n",
    "        print('Encontrou')\n",
    "        break"
   ]
  },
  {
   "cell_type": "code",
   "execution_count": 27,
   "metadata": {},
   "outputs": [
    {
     "name": "stdout",
     "output_type": "stream",
     "text": [
      "1\n",
      "2\n",
      "3\n",
      "4\n",
      "5\n",
      "6\n",
      "7\n",
      "8\n",
      "9\n",
      "10\n"
     ]
    }
   ],
   "source": [
    "for i in range(1, 11):\n",
    "    print(i)"
   ]
  }
 ],
 "metadata": {
  "kernelspec": {
   "display_name": "Python 3",
   "language": "python",
   "name": "python3"
  },
  "language_info": {
   "codemirror_mode": {
    "name": "ipython",
    "version": 3
   },
   "file_extension": ".py",
   "mimetype": "text/x-python",
   "name": "python",
   "nbconvert_exporter": "python",
   "pygments_lexer": "ipython3",
   "version": "3.6.7"
  }
 },
 "nbformat": 4,
 "nbformat_minor": 2
}
