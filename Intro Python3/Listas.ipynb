{
 "cells": [
  {
   "cell_type": "code",
   "execution_count": 19,
   "metadata": {},
   "outputs": [
    {
     "name": "stdout",
     "output_type": "stream",
     "text": [
      "['Deyvison Guilherme', 'Miguel Guilherme', 'Maria Guilherme', 'Edinaldo Guilherme', ['Primo', 'Taian', 'Fábio', 'Kelly', 'Carlos']]\n",
      "----------------------------------------------------------------------------------------------------\n",
      "['Deyvison Guilherme', 'Miguel Guilherme', 'Maria Guilherme', 'Edinaldo Guilherme', ['Primo', 'Taian', 'Fábio', 'Kelly', 'Deyvison Guilherme']]\n"
     ]
    }
   ],
   "source": [
    "lista = []\n",
    "len(lista)\n",
    "lista.append('Deyvison Guilherme')\n",
    "lista.append('Miguel Guilherme')\n",
    "lista.append('Maria Guilherme')\n",
    "lista.append('Edinaldo Guilherme')\n",
    "len(lista)\n",
    "lista.append(['Primo', 'Taian','Fábio', 'Kelly','Carlos'])\n",
    "print(lista)\n",
    "len(lista)\n",
    "print(100*'-')\n",
    "lista[4][4] = lista[0]\n",
    "print(lista)"
   ]
  }
 ],
 "metadata": {
  "kernelspec": {
   "display_name": "Python 3",
   "language": "python",
   "name": "python3"
  },
  "language_info": {
   "codemirror_mode": {
    "name": "ipython",
    "version": 3
   },
   "file_extension": ".py",
   "mimetype": "text/x-python",
   "name": "python",
   "nbconvert_exporter": "python",
   "pygments_lexer": "ipython3",
   "version": "3.6.7"
  }
 },
 "nbformat": 4,
 "nbformat_minor": 2
}
