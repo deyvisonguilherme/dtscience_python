{
 "cells": [
  {
   "cell_type": "code",
   "execution_count": 1,
   "metadata": {},
   "outputs": [],
   "source": [
    "class Point:\n",
    "    def __init__(self, x, y):\n",
    "        self.x = x\n",
    "        self.y = y\n",
    "        \n",
    "    def __str__(self):\n",
    "        return '<%s, %s>' % (self.x, self.y)\n",
    "        \n",
    "class Reward(Point):\n",
    "    def __init__(self, x, y, nome):\n",
    "        super(Reward, self).__init__(x, y)\n",
    "        self.nome = nome\n",
    "        \n",
    "    def __str__(self):\n",
    "        return '<%s, %s>: %s' % (self.x, self.y, self.nome)\n",
    "    \n",
    "    def __repr__(self):\n",
    "        return '<Reward> %s' % str(self)\n",
    "        \n",
    "class Robo(Point):       \n",
    "    def move_up(self):\n",
    "        if self.y < 10:\n",
    "            self.y = self.y + 1\n",
    "        else:\n",
    "            print('Movimentação proibida')\n",
    "        \n",
    "    def move_down(self):\n",
    "        if self.y > 0 :\n",
    "            self.y = self.y - 1\n",
    "        else:\n",
    "            print('Movimentação proibida')\n",
    "        \n",
    "    def move_right(self):\n",
    "        if self.x > 0:\n",
    "            self.x = self.x + 1\n",
    "        else:\n",
    "            print('Movimentação proibida')\n",
    "    \n",
    "    def move_left(self):\n",
    "        if self.x < 10:\n",
    "            self.x = self.x - 1\n",
    "        else:\n",
    "            print('Movimentação proibida')"
   ]
  },
  {
   "cell_type": "code",
   "execution_count": 2,
   "metadata": {},
   "outputs": [],
   "source": [
    "def check_reward(robot, rewards):\n",
    "    ok = False\n",
    "    for reward in rewards:\n",
    "        if reward.x == robot.x and reward.y == robot.y:\n",
    "            print('Recompensa %s' % reward.nome)\n",
    "            ok = True\n",
    "    return ok"
   ]
  },
  {
   "cell_type": "code",
   "execution_count": 3,
   "metadata": {},
   "outputs": [],
   "source": [
    "import random"
   ]
  },
  {
   "cell_type": "code",
   "execution_count": 4,
   "metadata": {},
   "outputs": [],
   "source": [
    "r1 = Reward(random.randint(0, 10), random.randint(0, 10), 'Moeda')\n",
    "r2= Reward(random.randint(0, 10), random.randint(0, 10), 'Gasolina')\n",
    "r3 = Reward(random.randint(0, 10), random.randint(0, 10), 'Arma')\n",
    "rewards = [r1, r2, r3]"
   ]
  },
  {
   "cell_type": "code",
   "execution_count": 5,
   "metadata": {},
   "outputs": [],
   "source": [
    "robot = Robo(random.randint(0, 10), random.randint(0, 10))"
   ]
  },
  {
   "cell_type": "code",
   "execution_count": null,
   "metadata": {},
   "outputs": [
    {
     "name": "stdout",
     "output_type": "stream",
     "text": [
      "Digite up, down, left, right para os movimentos up\n",
      "Movimentação proibida\n",
      "<6, 10>\n",
      "Digite up, down, left, right para os movimentos left\n",
      "<5, 10>\n",
      "Digite up, down, left, right para os movimentos left\n",
      "<4, 10>\n",
      "Digite up, down, left, right para os movimentos left\n",
      "<3, 10>\n",
      "Digite up, down, left, right para os movimentos left\n",
      "<2, 10>\n",
      "Digite up, down, left, right para os movimentos left\n",
      "<1, 10>\n",
      "Digite up, down, left, right para os movimentos left\n",
      "<0, 10>\n",
      "Recompensa Moeda\n",
      "Digite up, down, left, right para os movimentos right\n",
      "Movimentação proibida\n",
      "<0, 10>\n",
      "Recompensa Moeda\n"
     ]
    }
   ],
   "source": [
    "for i in range(10):\n",
    "    move = input('Digite up, down, left, right para os movimentos ')\n",
    "    if move == 'up':\n",
    "        robot.move_up()\n",
    "    elif move == 'down':\n",
    "        robot.move_down()\n",
    "    elif move == 'left':\n",
    "        robot.move_left()\n",
    "    elif move == 'right':\n",
    "        robot.move_right()\n",
    "    else:\n",
    "        print('Movimentação inválida')\n",
    "        continue\n",
    "    print(robot)\n",
    "    check_reward(robot, rewards)"
   ]
  }
 ],
 "metadata": {
  "kernelspec": {
   "display_name": "Python 3",
   "language": "python",
   "name": "python3"
  },
  "language_info": {
   "codemirror_mode": {
    "name": "ipython",
    "version": 3
   },
   "file_extension": ".py",
   "mimetype": "text/x-python",
   "name": "python",
   "nbconvert_exporter": "python",
   "pygments_lexer": "ipython3",
   "version": "3.6.7"
  }
 },
 "nbformat": 4,
 "nbformat_minor": 2
}
